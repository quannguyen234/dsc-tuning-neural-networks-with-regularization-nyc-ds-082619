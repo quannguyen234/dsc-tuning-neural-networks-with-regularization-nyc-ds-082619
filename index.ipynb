{
 "cells": [
  {
   "cell_type": "markdown",
   "metadata": {},
   "source": [
    "# Tuning Neural Networks with Regularization\n",
    "\n",
    "## Introduction\n",
    "\n",
    "Now that you've learned about neural networks and some streamlined methods for building such models, it's time to further explore how to tune and optimize the performance of these networks. One important aspect is reducing the time and resources needed to train these models. In previous lessons, when importing the Santa images, you immediately reduces each image to an extremely pixelated 64x64 representation. On top of that, you further down-sampled the dataset to reduce the number of observations. This was because training neural networks is resource intensive and is often a time consuming process as a result. Typically you also want to also improve the accuracy and performance of these models. In this lesson, you will begin to examine various techniques related to these goals, beginning with the discussion of validation sets.\n",
    "\n",
    "## Objectives\n",
    "You will be able to:\n",
    "* Explain the relationship between bias and variance\n",
    "* Explain general rules of thumb for improving neural networks based on initial bias and variance measurements"
   ]
  },
  {
   "cell_type": "markdown",
   "metadata": {},
   "source": [
    "## Hyperparameters and iterative deep learning"
   ]
  },
  {
   "cell_type": "markdown",
   "metadata": {},
   "source": [
    "First, there are many hyperparameters you can tune. These include:"
   ]
  },
  {
   "cell_type": "markdown",
   "metadata": {},
   "source": [
    "- number of hidden units\n",
    "- number of layers\n",
    "- learning rate alpha\n",
    "- activation function\n",
    "\n",
    "\n",
    "The question then becomes, how do you choose these parameters? One primary method will be developing validation sets to strike a balance between specificity and generalization."
   ]
  },
  {
   "cell_type": "markdown",
   "metadata": {},
   "source": [
    "## Training, Validation and Test Sets"
   ]
  },
  {
   "cell_type": "markdown",
   "metadata": {},
   "source": [
    "When tuning neural networks it typically helps to split the data into three distinct partitions as follows:\n",
    "- You train algorithms on the training set\n",
    "- You'll use a validation set to decide which one will be your final model after parameter tuning\n",
    "- After having chosen the final model (and having evaluated long enough), you'll use the test set to get an unbiased estimate of the classification performance (or whatever your evaluation metric will be)."
   ]
  },
  {
   "cell_type": "markdown",
   "metadata": {},
   "source": [
    "Remeber that it is **VERY IMPORTANT** to make sure holdout and test sample come from the same distribution: eg. same resolution of santa pictures. "
   ]
  },
  {
   "cell_type": "markdown",
   "metadata": {},
   "source": [
    "## Bias and Variance in Deep Learning\n",
    "\n",
    "Finding a balance between generalization and specificity is at the heart of the bias-variance trade off. To further examine this process for tuning neural networks, let's return to a simple example you've seen before."
   ]
  },
  {
   "cell_type": "markdown",
   "metadata": {},
   "source": [
    "## The Circles Example"
   ]
  },
  {
   "cell_type": "markdown",
   "metadata": {},
   "source": [
    "\n",
    "In classical models and machine learning, often one talks about a \"bias-variance trade-off\". You'll investigate these concepts here, and see how deep learning is slightly different and a trade-off isn't always present!"
   ]
  },
  {
   "cell_type": "markdown",
   "metadata": {},
   "source": [
    "Bias = underfitting\n",
    "\n",
    "high variance = overfitting\n",
    "\n",
    "good fit --> somewhere in between"
   ]
  },
  {
   "cell_type": "markdown",
   "metadata": {},
   "source": [
    "To start, take another look at the two circles data, the data looked like this:"
   ]
  },
  {
   "cell_type": "markdown",
   "metadata": {},
   "source": [
    "![title](images/example.png)"
   ]
  },
  {
   "cell_type": "markdown",
   "metadata": {},
   "source": [
    "Remember that you fit a logistic regression model to the data here. You got something that looked like the picture below. The model didn't do a particularly good job at discriminating between the yellow and purple dots. You could say this is a model with a **high bias**, the model is **underfitting**."
   ]
  },
  {
   "cell_type": "markdown",
   "metadata": {},
   "source": [
    "![title](images/underfitting.png)"
   ]
  },
  {
   "cell_type": "markdown",
   "metadata": {},
   "source": [
    "When using a neural network, what you reached in the end was a pretty good decision boundary, a circle discriminating between the yellow and purple dots:"
   ]
  },
  {
   "cell_type": "markdown",
   "metadata": {},
   "source": [
    "![title](images/good.png)"
   ]
  },
  {
   "cell_type": "markdown",
   "metadata": {},
   "source": [
    "At the other end of the spectrum, you might experience **overfitting**, where you create a circle which is super sensitive to small deviations of the colored dots. An example below. You can also call this a model with **high variance**."
   ]
  },
  {
   "cell_type": "markdown",
   "metadata": {},
   "source": [
    "![title](images/overfitting.png)"
   ]
  },
  {
   "cell_type": "markdown",
   "metadata": {},
   "source": [
    "## The Santa Example"
   ]
  },
  {
   "cell_type": "markdown",
   "metadata": {},
   "source": [
    "<tr>\n",
    "<td> <img src=\"images/s_4.jpg\" alt=\"Drawing\" style=\"height: 220px;\"/> </td>\n",
    "<td> <img src=\"images/ns_1.jpg\" alt=\"Drawing\" style=\"height: 220px;\"/> </td>\n",
    "</tr>"
   ]
  },
  {
   "cell_type": "markdown",
   "metadata": {},
   "source": [
    "|       | high variance | high bias   | high variance & bias | low variance and bias |\n",
    "|-------|---------------|-------------|----------------------|-----------------------|\n",
    "|train set error|   12% | 26%         | 26%                  | 12%                  |\n",
    "|validation set error|   25% | 28%         | 40%                   | 13%                   |"
   ]
  },
  {
   "cell_type": "markdown",
   "metadata": {},
   "source": [
    "Assume that our best model can get to a validation set accuracy of 87%. Note that \"high\" and \"low\" are relative! Also, in deep learning there is less of a bias variance trade-off!"
   ]
  },
  {
   "cell_type": "markdown",
   "metadata": {},
   "source": [
    "## Rules of Thumb Regarding Bias / Variance"
   ]
  },
  {
   "cell_type": "markdown",
   "metadata": {},
   "source": [
    "| High Bias? (training performance) | high variance? (validation performance)  |\n",
    "|---------------|-------------|\n",
    "| Use a bigger network|    More data     |\n",
    "| Train longer | Regularization   |\n",
    "| Look for other existing NN architextures |Look for other existing NN architextures |"
   ]
  },
  {
   "cell_type": "markdown",
   "metadata": {},
   "source": [
    "## Regularization\n",
    "\n",
    "Use regularization when when overfitting is occurring."
   ]
  },
  {
   "cell_type": "markdown",
   "metadata": {},
   "source": [
    "## L1 and L2 regularization\n",
    "\n",
    "## In logistic regression"
   ]
  },
  {
   "cell_type": "markdown",
   "metadata": {},
   "source": [
    "Let's look back at the logistic regression-example. with lambda a regularization parameter (another hyperparameter you have to tune).\n",
    "\n",
    "$$ J (w,b) = \\dfrac{1}{m} \\sum^m_{i=1}\\mathcal{L}(\\hat y^{(i)}, y^{(i)})+ \\dfrac{\\lambda}{2m}||w||_2^2$$\n",
    "\n",
    "$$||w||_2^2 = \\sum^{n_x}_{j=1}w_j^2= w^Tw$$\n",
    "\n",
    "This is called L2-regularization. You can also add a regularization term for $b$, but $b$ is just one parameter. L2-regularization is the most common type of regularization.\n",
    "\n",
    "L1-regularization is where you just add a term:\n",
    "\n",
    "$$ \\dfrac{\\lambda}{m}||w||_1$$ (could also be 2 in the denominator)\n",
    "\n",
    "\n"
   ]
  },
  {
   "cell_type": "markdown",
   "metadata": {},
   "source": [
    "## In a neural network"
   ]
  },
  {
   "cell_type": "markdown",
   "metadata": {},
   "source": [
    "$$ J (w^{[1]},b^{[1]},...,w^{[L]},b^{[L]}) = \\dfrac{1}{m} \\sum^m_{i=1}\\mathcal{L}(\\hat y^{(i)}, y^{(i)})+ \\dfrac{\\lambda}{2m}\\sum^L_{l=1}||w^{[l]}||^2$$\n",
    "\n",
    "$$||w^{[l]}||^2 = \\sum^{n^{[l-1]}}_{i=1} \\sum^{n^{[l]}}_{j=1} (w_{ij}^{[l]})^2$$\n",
    "\n",
    "this matrix norm is called the \"Frobenius norm\", also referred to as $||w^{[l]}||^2 _F$\n",
    "\n",
    "\n",
    "How does backpropagation change now?\n",
    "whichever expression you have from the backpropagation, and add $\\dfrac{\\lambda}{m} w^{[l]}$.\n",
    "So,\n",
    "\n",
    "$$dw^{[l]} = \\text{[backpropagation derivatives] }+ $\\dfrac{\\lambda}{m} w^{[l]}$$ \n",
    "\n",
    "Afterwards, $w^{[l]}$ is updated again as $w^{[l]}:= w^{[l]} - \\alpha dw^{[l]} $\n",
    "\n",
    "L2-regularization is called weight decay, because regularization will make your load smaller:\n",
    "\n",
    "$$w^{[l]}:= w^{[l]} - \\alpha \\bigr( \\text{[backpropagation derivatives] }+ \\dfrac{\\lambda}{m} w^{[l]}\\bigr)$$\n",
    "\n",
    "$$w^{[l]}:= w^{[l]} - \\dfrac{\\alpha\\lambda}{m}w^{[l]} - \\alpha \\text{[backpropagation derivatives]}$$\n",
    "\n",
    "hence your weights will become smaller by a factor $\\bigr(1- \\dfrac{\\alpha\\lambda}{m}\\bigr)$.\n",
    "\n",
    "Intuition for regularization: the weight matrices will be penalized from being too large. Actually, the network will be forced to almost be simplified.\n",
    "Also: eg, tanh function, if $w$ small, the activation function will be mostly operating in the linear region and not \"explode\" as easily."
   ]
  },
  {
   "cell_type": "markdown",
   "metadata": {},
   "source": [
    "## Dropout Regularization"
   ]
  },
  {
   "cell_type": "markdown",
   "metadata": {},
   "source": [
    "For each node, drop a coin and drop them out (you can also alter the dropout probability to be different from 0.5).\n"
   ]
  },
  {
   "cell_type": "markdown",
   "metadata": {},
   "source": [
    "Implement dropout for layer l. Let's implement a dropout vector for layer l, denoted by $dl$:\n",
    "\n",
    "```\n",
    "Specify keep_prob = 0.8\n",
    "dl = np.random.rand(al.shape[0], al.shape[1]) < keep_prob\n",
    "```\n",
    "Activations:\n",
    "\n",
    "```\n",
    "al = np.multiply(al,dl)\n",
    "```\n",
    "\n",
    "--> there is a 20% chance that each of the elements is 0, you'll zero out the corresponding element. As a last step, you need to divide a3 by `keep_prob`, in order to not reduce the expected value of $z^{[l+1]}$\n",
    "\n",
    "```\n",
    "a1 /= keep_prob \n",
    "```\n",
    "\n",
    "In different iterations through the training set, different nodes will be zeroed out!\n",
    "\n",
    "When making predictions, don't do dropout!\n",
    "\n",
    "Why does dropout regularization work? The idea is that you train the network in a way that in cannot rely on any specific feature, so the weights are spread out."
   ]
  },
  {
   "cell_type": "markdown",
   "metadata": {},
   "source": [
    "## Other types of regularization\n",
    "\n",
    "At the end of the upcoming lab, you'll further explore two more types of regularization:\n",
    "* Data augmentation\n",
    "* Early stopping"
   ]
  },
  {
   "cell_type": "markdown",
   "metadata": {},
   "source": [
    "## Summary\n",
    "\n",
    "In this lesson you began to explore how to further tune and optimize out of the box neural networks built with Keras. This included regularization analogous to previous machine learning work you've seen, as well dropout regularization, used to further prune your networks. In the upcoming lab you'll get a chance to experiment with these concepts in practice and observe their effect on your models outputs."
   ]
  }
 ],
 "metadata": {
  "kernelspec": {
   "display_name": "Python 3",
   "language": "python",
   "name": "python3"
  },
  "language_info": {
   "codemirror_mode": {
    "name": "ipython",
    "version": 3
   },
   "file_extension": ".py",
   "mimetype": "text/x-python",
   "name": "python",
   "nbconvert_exporter": "python",
   "pygments_lexer": "ipython3",
   "version": "3.6.9"
  }
 },
 "nbformat": 4,
 "nbformat_minor": 2
}
